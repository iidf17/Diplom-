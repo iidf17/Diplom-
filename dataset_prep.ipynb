{
 "cells": [
  {
   "cell_type": "code",
   "execution_count": null,
   "id": "3849e7e1",
   "metadata": {},
   "outputs": [],
   "source": [
    "import os\n",
    "import csv\n",
    "\n",
    "p = os.path.join(os.getcwd(), 'DSet')\n",
    "ents = os.listdir(p)\n",
    "\n",
    "flag = 0\n",
    "with open('dataset.csv', mode='w', newline='', encoding='utf-8') as file:\n",
    "    writer = csv.writer(file)\n",
    "\n",
    "    writer.writerow(['filename', 'label'])\n",
    "    for ent in ents:\n",
    "        f = os.path.join(p, ent)\n",
    "        if os.path.isdir(f):\n",
    "            flist = os.listdir(f)\n",
    "            for fi in flist:\n",
    "                writer.writerow([fi, flag])\n",
    "            flag += 1\n",
    "\n"
   ]
  }
 ],
 "metadata": {
  "language_info": {
   "name": "python"
  }
 },
 "nbformat": 4,
 "nbformat_minor": 5
}
