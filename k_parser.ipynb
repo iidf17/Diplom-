{
 "cells": [
  {
   "cell_type": "code",
   "execution_count": 2,
   "id": "e98ebb09",
   "metadata": {},
   "outputs": [],
   "source": [
    "import torch\n",
    "import pythoncom\n",
    "from win32com.client import Dispatch, gencache\n",
    "\n",
    "def get_kompas_api7():\n",
    "    module = gencache.EnsureModule(\"{69AC2981-37C0-4379-84FD-5DD2F3C0A520}\", 0, 1, 0)\n",
    "    api = module.IKompasAPIObject(\n",
    "        Dispatch(\"Kompas.Application.7\")._oleobj_.QueryInterface(module.IKompasAPIObject.CLSID,\n",
    "                                                                 pythoncom.IID_IDispatch))\n",
    "    return module, api\n",
    "\n",
    "def get_kompas_api5():\n",
    "    module = gencache.EnsureModule(\"{0422828C-F174-495E-AC5D-D31014DBBE87}\", 0, 1, 0)\n",
    "    api = module.KompasObject(            \n",
    "        Dispatch(\"Kompas.Application.5\")._oleobj_.QueryInterface(module.KompasObject.CLSID,                                                        \n",
    "                                                                 pythoncom.IID_IDispatch))   \n",
    "    return module, api\n",
    "\n",
    "def get_constants():\n",
    "    const = gencache.EnsureModule(\"{75C9F5D0-B5B8-4526-8681-9903C567D2ED}\", 0, 1, 0).constants\n",
    "    const_3d = gencache.EnsureModule(\"{2CAF168C-7961-4B90-9DA2-701419BEEFE3}\", 0, 1, 0).constants\n",
    "    return const, const_3d\n",
    "\n",
    "module7, api7 = get_kompas_api7()   # Подключаемся к API7 \n",
    "module5, api5 = get_kompas_api5()   # Подключаемся к API5 \n",
    "const, const_3d = get_constants()\n",
    "app7 = api7.Application                     # Получаем основной интерфейс\n",
    "app7.Visible = True                         # Показываем окно пользователю (если скрыто)\n",
    "app7.HideMessage = const.ksHideMessageNo   # Отвечаем НЕТ на любые вопросы программы\n",
    "\n",
    "#  Подключим константы API Компас\n",
    "kompas6_constants = gencache.EnsureModule(\"{75C9F5D0-B5B8-4526-8681-9903C567D2ED}\", 0, 1, 0).constants\n",
    "kompas6_constants_3d = gencache.EnsureModule(\"{2CAF168C-7961-4B90-9DA2-701419BEEFE3}\", 0, 1, 0).constants\n",
    "\n",
    "#  Подключим описание интерфейсов API5\n",
    "kompas6_api5_module = gencache.EnsureModule(\"{0422828C-F174-495E-AC5D-D31014DBBE87}\", 0, 1, 0)\n",
    "kompas_object = kompas6_api5_module.KompasObject(Dispatch(\"Kompas.Application.5\")._oleobj_.QueryInterface(kompas6_api5_module.KompasObject.CLSID, pythoncom.IID_IDispatch))\n",
    "\n",
    "#  Подключим описание интерфейсов API7\n",
    "kompas_api7_module = gencache.EnsureModule(\"{69AC2981-37C0-4379-84FD-5DD2F3C0A520}\", 0, 1, 0)\n",
    "application = kompas_api7_module.IApplication(Dispatch(\"Kompas.Application.7\")._oleobj_.QueryInterface(kompas_api7_module.IApplication.CLSID, pythoncom.IID_IDispatch))\n",
    "\n",
    "Documents = application.Documents"
   ]
  },
  {
   "cell_type": "code",
   "execution_count": 3,
   "id": "1528583a",
   "metadata": {},
   "outputs": [
    {
     "data": {
      "text/plain": [
       "['cil1.m3d',\n",
       " 'cil1.m3d.bak',\n",
       " 'cil2.m3d',\n",
       " 'cil3.m3d',\n",
       " 'cil4.m3d',\n",
       " 'cil5.m3d',\n",
       " 'cil6.m3d',\n",
       " 'cube1.m3d',\n",
       " 'cube10.m3d',\n",
       " 'cube11.m3d',\n",
       " 'cube2.m3d',\n",
       " 'cube3.m3d',\n",
       " 'cube4.m3d',\n",
       " 'cube5.m3d',\n",
       " 'cube6.m3d',\n",
       " 'cube7.m3d',\n",
       " 'cube8.m3d',\n",
       " 'cube9.m3d',\n",
       " 'cube_test.m3d',\n",
       " 'dataset.csv',\n",
       " 'trap.m3d',\n",
       " '~$cil1.m3~',\n",
       " '~$cil2.m3~',\n",
       " '~$cil3.m3~',\n",
       " '~$cil4.m3~',\n",
       " '~$cil5.m3~',\n",
       " '~$cil6.m3~']"
      ]
     },
     "execution_count": 3,
     "metadata": {},
     "output_type": "execute_result"
    }
   ],
   "source": [
    "import os\n",
    "path = os.getcwd() + \"\\\\filesK\"\n",
    "files = os.listdir(path)\n",
    "files"
   ]
  },
  {
   "cell_type": "code",
   "execution_count": 4,
   "id": "d583c2f7",
   "metadata": {},
   "outputs": [
    {
     "data": {
      "text/plain": [
       "'c:\\\\u4ebaENG\\\\Diplom-\\\\filesK\\\\cil1.m3d'"
      ]
     },
     "execution_count": 4,
     "metadata": {},
     "output_type": "execute_result"
    }
   ],
   "source": [
    "filePath = path + \"\\\\\" + files[0]\n",
    "filePath"
   ]
  },
  {
   "cell_type": "code",
   "execution_count": null,
   "id": "92b63a22",
   "metadata": {},
   "outputs": [],
   "source": [
    "import networkx as nx\n",
    "import matplotlib.pyplot as plt\n",
    "\n",
    "def model_to_graph(filePath):\n",
    "    kompas_document = Documents.Open(filePath, True, False)\n",
    "    # Инициализируем граф NetworkX\n",
    "    G = nx.DiGraph()\n",
    "    iDocument3D = api5.ActiveDocument3D()\n",
    "    kompas_document_3d = module7.IKompasDocument3D(kompas_document)\n",
    "    iPart7 = kompas_document_3d.TopPart\n",
    "    iPart = iDocument3D.GetPart(const_3d.pTop_Part)\n",
    "\n",
    "\n",
    "    faces = iPart.EntityCollection(0)\n",
    "\n",
    "    for j in range (faces.GetCount()):\n",
    "        entity = faces.GetByIndex(j)\n",
    "        if entity != None:\n",
    "            if entity.type == 6: # если поверхность\n",
    "                entity.name = 'F_' + str(j)\n",
    "            if entity.type == 7: # если ребро\n",
    "                entity.name = 'E_' + str(j)\n",
    "            if entity.type == 8: # если вершина\n",
    "                entity.name = 'V_' + str(j)\n",
    "\n",
    "    def get_entity(num):\n",
    "        entity = faces.GetByIndex(num)\n",
    "        if entity != None:\n",
    "            if entity.type == 6: # если поверхность\n",
    "                face = entity.GetDefinition()\n",
    "                connected= face.ConnectedFaceCollection()\n",
    "                # Добавляем грань как основной узел\n",
    "                G.add_node(entity.name, type=\"face\")\n",
    "                for c in range(connected.GetCount()):\n",
    "                    conFace = connected.GetByIndex (c)\n",
    "                    if conFace.GetEntity().name == '':\n",
    "                        print('!!')\n",
    "                    if not G.has_edge(entity.name, conFace.GetEntity().name):  # Проверяем, нет ли уже такого ребра\n",
    "                        G.add_edge(entity.name, conFace.GetEntity().name)\n",
    "\n",
    "    for j in range (faces.GetCount()):\n",
    "        get_entity(j)\n",
    "    \n",
    "    return G"
   ]
  },
  {
   "cell_type": "code",
   "execution_count": null,
   "id": "67c68157",
   "metadata": {},
   "outputs": [
    {
     "ename": "NameError",
     "evalue": "name 'kompas_document' is not defined",
     "output_type": "error",
     "traceback": [
      "\u001b[31m---------------------------------------------------------------------------\u001b[39m",
      "\u001b[31mNameError\u001b[39m                                 Traceback (most recent call last)",
      "\u001b[36mCell\u001b[39m\u001b[36m \u001b[39m\u001b[32mIn[6]\u001b[39m\u001b[32m, line 4\u001b[39m\n\u001b[32m      1\u001b[39m G = nx.DiGraph()\n\u001b[32m      3\u001b[39m iDocument3D = api5.ActiveDocument3D()\n\u001b[32m----> \u001b[39m\u001b[32m4\u001b[39m kompas_document_3d = module7.IKompasDocument3D(\u001b[43mkompas_document\u001b[49m)\n\u001b[32m      5\u001b[39m iPart7 = kompas_document_3d.TopPart\n\u001b[32m      6\u001b[39m iPart = iDocument3D.GetPart(const_3d.pTop_Part)\n",
      "\u001b[31mNameError\u001b[39m: name 'kompas_document' is not defined"
     ]
    }
   ],
   "source": [
    "#не нужное\n",
    "G = nx.DiGraph()\n",
    "\n",
    "iDocument3D = api5.ActiveDocument3D()\n",
    "kompas_document_3d = module7.IKompasDocument3D(kompas_document)\n",
    "iPart7 = kompas_document_3d.TopPart\n",
    "iPart = iDocument3D.GetPart(const_3d.pTop_Part)\n",
    "\n",
    "\n",
    "faces = iPart.EntityCollection(0)\n",
    "\n",
    "for j in range (faces.GetCount()):\n",
    "    entity = faces.GetByIndex(j)\n",
    "    if entity != None:\n",
    "        if entity.type == 6: # если поверхность\n",
    "            entity.name = 'F_' + str(j)\n",
    "        if entity.type == 7: # если ребро\n",
    "            entity.name = 'E_' + str(j)\n",
    "        if entity.type == 8: # если вершина\n",
    "            entity.name = 'V_' + str(j)\n",
    "\n",
    "def get_entity(num):\n",
    "    entity = faces.GetByIndex(num)\n",
    "    if entity != None:\n",
    "        if entity.type == 6: # если поверхность\n",
    "            face = entity.GetDefinition()\n",
    "            connected= face.ConnectedFaceCollection()\n",
    "            # Добавляем грань как основной узел\n",
    "            G.add_node(entity.name, type=\"face\")\n",
    "            for c in range(connected.GetCount()):\n",
    "                conFace = connected.GetByIndex (c)\n",
    "                if conFace.GetEntity().name == '':\n",
    "                    print('!!')\n",
    "                if not G.has_edge(entity.name, conFace.GetEntity().name):  # Проверяем, нет ли уже такого ребра\n",
    "                    G.add_edge(entity.name, conFace.GetEntity().name)\n",
    "\n",
    "for j in range (faces.GetCount()):\n",
    "    get_entity(j)\n",
    "      # Связываем грань с гранью\n",
    "            \n",
    "# Визуализация графа с помощью Matplotlib\n",
    "plt.figure(figsize=(12, 10))\n",
    "\n",
    "# Располагаем узлы для визуализации\n",
    "pos = nx.kamada_kawai_layout(G)#arf_layout(G)# spring_layout(G, seed=442)  # Автоматическое распределение узлов для логической схемы\n",
    "\n",
    "# Выделяем узлы разного типа цветом\n",
    "face_nodes = [node for node, data in G.nodes(data=True) if data[\"type\"] == \"face\"]\n",
    "\n",
    "nx.draw(G, pos,with_labels=True, nodelist=face_nodes, node_color=\"lightblue\", node_size=700)\n",
    "\n",
    "plt.axis(\"off\")\n",
    "plt.show()"
   ]
  },
  {
   "cell_type": "code",
   "execution_count": 6,
   "id": "85fa0ee0",
   "metadata": {},
   "outputs": [
    {
     "name": "stdout",
     "output_type": "stream",
     "text": [
      "c:\\u4ebaENG\\Diplom-\\filesK\\cil1.m3d\n"
     ]
    },
    {
     "data": {
      "image/png": "[encoded data removed]",
      "text/plain": [
       "<Figure size 1200x1000 with 1 Axes>"
      ]
     },
     "metadata": {},
     "output_type": "display_data"
    }
   ],
   "source": [
    "print(filePath)\n",
    "G1 = model_to_graph(filePath)\n",
    "\n",
    "plt.figure(figsize=(12, 10))\n",
    "\n",
    "# Располагаем узлы для визуализации\n",
    "pos = nx.kamada_kawai_layout(G1)#arf_layout(G)# spring_layout(G, seed=442)  # Автоматическое распределение узлов для логической схемы\n",
    "\n",
    "# Выделяем узлы разного типа цветом\n",
    "face_nodes = [node for node, data in G1.nodes(data=True) if data[\"type\"] == \"face\"]\n",
    "\n",
    "nx.draw(G1, pos,with_labels=True, nodelist=face_nodes, node_color=\"lightblue\", node_size=700)\n",
    "\n",
    "plt.axis(\"off\")\n",
    "plt.show()"
   ]
  },
  {
   "cell_type": "code",
   "execution_count": 17,
   "id": "a25ddc7c",
   "metadata": {},
   "outputs": [],
   "source": [
    "import torch_geometric\n",
    "from torch_geometric.utils import from_networkx\n",
    "\n",
    "def graph_to_data(G: nx.Graph, label: int = None) -> torch_geometric.data.Data:\n",
    "    largest_scc = max(nx.strongly_connected_components(G), key=len)\n",
    "    G = G.subgraph(largest_scc).copy()\n",
    "    \n",
    "    degrees = [val for _, val in G.degree()]\n",
    "    closeness = list(nx.closeness_centrality(G).values())\n",
    "    betweenness = list(nx.betweenness_centrality(G).values())\n",
    "    pagerank = list(nx.pagerank(G).values())\n",
    "    eccentricity = list(nx.eccentricity(G).values())\n",
    "    \n",
    "    features = torch.tensor(\n",
    "        [[d, c, b, p, e] for d, c, b, p, e in zip(degrees, closeness, betweenness, pagerank, eccentricity)],\n",
    "        dtype=torch.float\n",
    "    )\n",
    "\n",
    "    data = from_networkx(G)\n",
    "\n",
    "    data.x = features\n",
    "    if label is not None:\n",
    "        data.y = torch.tensor([label], dtype=torch.long)\n",
    "\n",
    "    return data"
   ]
  },
  {
   "cell_type": "code",
   "execution_count": 18,
   "id": "77df3530",
   "metadata": {},
   "outputs": [],
   "source": [
    "from pandas import read_csv\n",
    "dataset = []\n",
    "df_path = os.getcwd() + \"\\\\filesK\\\\dataset.csv\"\n",
    "df = read_csv(df_path)\n",
    "for idx, row in df.iterrows():\n",
    "    filename = row[\"filename\"]\n",
    "    label = row[\"label\"]\n",
    "    filepath = os.path.join(os.getcwd() + \"\\\\filesK\", filename)\n",
    "    G = model_to_graph(filepath)\n",
    "    dataset.append(graph_to_data(G, label))\n",
    "\n",
    "        "
   ]
  },
  {
   "cell_type": "code",
   "execution_count": 19,
   "id": "f063cb7e",
   "metadata": {},
   "outputs": [
    {
     "name": "stdout",
     "output_type": "stream",
     "text": [
      "tensor([0])\n",
      "tensor([0])\n",
      "tensor([0])\n",
      "tensor([0])\n",
      "tensor([0])\n",
      "tensor([0])\n",
      "tensor([1])\n",
      "tensor([1])\n",
      "tensor([1])\n",
      "tensor([1])\n",
      "tensor([1])\n",
      "tensor([1])\n",
      "tensor([1])\n",
      "tensor([1])\n",
      "tensor([1])\n",
      "tensor([1])\n",
      "tensor([1])\n",
      "tensor([1])\n"
     ]
    }
   ],
   "source": [
    "for data in dataset:\n",
    "    print(data.y)"
   ]
  },
  {
   "cell_type": "code",
   "execution_count": 20,
   "id": "65d98e58",
   "metadata": {},
   "outputs": [],
   "source": [
    "from torch_geometric.loader import DataLoader\n",
    "\n",
    "loader = DataLoader(dataset, batch_size=8, shuffle=True)"
   ]
  },
  {
   "cell_type": "code",
   "execution_count": 21,
   "id": "ab8d07c2",
   "metadata": {},
   "outputs": [],
   "source": [
    "import torch\n",
    "import torch.nn.functional as F\n",
    "from torch_geometric.nn import GCNConv, global_mean_pool\n",
    "\n",
    "class GNN(torch.nn.Module):\n",
    "    def __init__(self, in_channels, hidden_channels, num_classes):\n",
    "        super(GNN, self).__init__()\n",
    "        self.conv1 = GCNConv(in_channels, hidden_channels)\n",
    "        self.conv2 = GCNConv(hidden_channels, hidden_channels)\n",
    "        self.lin = torch.nn.Linear(hidden_channels, num_classes)\n",
    "\n",
    "    def forward(self, x, edge_index, batch):\n",
    "        # x — признаки узлов\n",
    "        # edge_index — связи\n",
    "        # batch — какой узел к какому графу относится\n",
    "\n",
    "        x = self.conv1(x, edge_index)\n",
    "        x = F.relu(x)\n",
    "        x = self.conv2(x, edge_index)\n",
    "\n",
    "        # Агрегация признаков всех узлов в один вектор на граф\n",
    "        x = global_mean_pool(x, batch)\n",
    "\n",
    "        x = self.lin(x)\n",
    "        return x\n",
    "    \n"
   ]
  },
  {
   "cell_type": "code",
   "execution_count": 28,
   "id": "21186fc5",
   "metadata": {},
   "outputs": [],
   "source": [
    "model = GNN(in_channels=5, hidden_channels=64, num_classes=2)\n",
    "optimizer = torch.optim.Adam(model.parameters(), lr=0.01)\n",
    "criterion = torch.nn.CrossEntropyLoss()"
   ]
  },
  {
   "cell_type": "code",
   "execution_count": 29,
   "id": "4f594884",
   "metadata": {},
   "outputs": [
    {
     "name": "stdout",
     "output_type": "stream",
     "text": [
      "Epoch 40, Loss: 2.3735\n",
      "Epoch 80, Loss: 2.0235\n",
      "Epoch 120, Loss: 1.8059\n",
      "Epoch 160, Loss: 1.8235\n",
      "Epoch 200, Loss: 1.9948\n",
      "Epoch 240, Loss: 1.7804\n",
      "Epoch 280, Loss: 1.9946\n",
      "Epoch 320, Loss: 1.7102\n",
      "Epoch 360, Loss: 2.0022\n",
      "Epoch 400, Loss: 1.7486\n"
     ]
    }
   ],
   "source": [
    "for epoch in range(1, 401):\n",
    "    model.train()\n",
    "    total_loss = 0\n",
    "\n",
    "    for data in loader: \n",
    "        optimizer.zero_grad()\n",
    "        out = model(data.x, data.edge_index, data.batch)\n",
    "        loss = criterion(out, data.y)\n",
    "        loss.backward()\n",
    "        optimizer.step()\n",
    "        total_loss += loss.item()\n",
    "\n",
    "    if epoch % 40 == 0:\n",
    "        print(f\"Epoch {epoch}, Loss: {total_loss:.4f}\")"
   ]
  },
  {
   "cell_type": "code",
   "execution_count": 39,
   "id": "8ed9de36",
   "metadata": {},
   "outputs": [
    {
     "data": {
      "image/png": "[encoded data removed]",
      "text/plain": [
       "<Figure size 1200x1000 with 1 Axes>"
      ]
     },
     "metadata": {},
     "output_type": "display_data"
    }
   ],
   "source": [
    "testFilePath = os.getcwd() + \"\\\\filesK\\\\cil5.m3d\"\n",
    "G_test = model_to_graph(testFilePath)\n",
    "\n",
    "plt.figure(figsize=(12, 10))\n",
    "\n",
    "# Располагаем узлы для визуализации\n",
    "pos = nx.kamada_kawai_layout(G_test)#arf_layout(G)# spring_layout(G, seed=442)  # Автоматическое распределение узлов для логической схемы\n",
    "\n",
    "# Выделяем узлы разного типа цветом\n",
    "face_nodes = [node for node, data in G_test.nodes(data=True) if data[\"type\"] == \"face\"]\n",
    "\n",
    "nx.draw(G_test, pos,with_labels=True, nodelist=face_nodes, node_color=\"lightblue\", node_size=700)\n",
    "\n",
    "plt.axis(\"off\")\n",
    "plt.show()"
   ]
  },
  {
   "cell_type": "code",
   "execution_count": 40,
   "id": "6773633f",
   "metadata": {},
   "outputs": [
    {
     "name": "stdout",
     "output_type": "stream",
     "text": [
      "Предсказанный класс: 1\n"
     ]
    }
   ],
   "source": [
    "test_graph = graph_to_data(G_test)\n",
    "with torch.no_grad():\n",
    "    out = model(test_graph.x, test_graph.edge_index, test_graph.batch)\n",
    "    pred_class = out.mean(dim=0).argmax().item() \n",
    "    print(f\"Предсказанный класс: {pred_class}\")"
   ]
  },
  {
   "cell_type": "code",
   "execution_count": null,
   "id": "340f88f7",
   "metadata": {},
   "outputs": [
    {
     "data": {
      "text/plain": [
       "4"
      ]
     },
     "execution_count": 44,
     "metadata": {},
     "output_type": "execute_result"
    }
   ],
   "source": [
    "s = face.GetDefinition()\n",
    "s = s.GetSurface()\n",
    "s.GetEdgesCount(0)"
   ]
  },
  {
   "cell_type": "code",
   "execution_count": null,
   "id": "1cac65fa",
   "metadata": {},
   "outputs": [
    {
     "ename": "NameError",
     "evalue": "name 'face' is not defined",
     "output_type": "error",
     "traceback": [
      "\u001b[31m---------------------------------------------------------------------------\u001b[39m",
      "\u001b[31mNameError\u001b[39m                                 Traceback (most recent call last)",
      "\u001b[36mCell\u001b[39m\u001b[36m \u001b[39m\u001b[32mIn[15]\u001b[39m\u001b[32m, line 1\u001b[39m\n\u001b[32m----> \u001b[39m\u001b[32m1\u001b[39m surface = \u001b[43mface\u001b[49m\n\u001b[32m      2\u001b[39m connected = face.ConnectedFaceCollection()\n\u001b[32m      3\u001b[39m Sq = surface.GetArea(\u001b[32m1\u001b[39m) \u001b[38;5;66;03m# площадь 1 - мм, 3 - м\u001b[39;00m\n",
      "\u001b[31mNameError\u001b[39m: name 'face' is not defined"
     ]
    }
   ],
   "source": [
    "surface = face.GetSurface()\n",
    "connected = face.ConnectedFaceCollection()\n",
    "Sq = surface.GetArea(1) # площадь 1 - мм, 3 - м\n",
    "Borders = surface.BoundaryCount # кол-во контуров\n",
    "Edges = surface.GetEdgesCount(0) # кол-во ребер в цикле (№цикла)\n",
    "Box = surface.GetGabarit() # габаритный блок,:: успех, x,y,z1, x,y,z2\n",
    "NormalVec = surface.GetNormal (0,0) #успех, xyz ветора нормали в заданном U,V\n",
    "#surface.GetParamVMax() получить min max U,V\n",
    "Type = surface.GetSurfaceParam() # тип поверхности с интерфейсом\n",
    "ClosedV = surface.IsClosedV() #замкнутость по U, V\n",
    "ClosedU = surface.IsClosedU()\n",
    "print(surface.IsClosedU(),surface.IsClosedV()) \n",
    "#print(connected)\n",
    "c = 0\n",
    "#print(connected.GetCount())\n",
    "for c in range(connected.GetCount()):\n",
    "    conFace = connected.GetByIndex (c)\n",
    "    print (conFace.GetEntity().name )\n",
    "else:\n",
    "    print(\"no connected\")\n",
    "    l = 0"
   ]
  }
 ],
 "metadata": {
  "kernelspec": {
   "display_name": ".venv",
   "language": "python",
   "name": "python3"
  },
  "language_info": {
   "codemirror_mode": {
    "name": "ipython",
    "version": 3
   },
   "file_extension": ".py",
   "mimetype": "text/x-python",
   "name": "python",
   "nbconvert_exporter": "python",
   "pygments_lexer": "ipython3",
   "version": "3.12.9"
  }
 },
 "nbformat": 4,
 "nbformat_minor": 5
}
